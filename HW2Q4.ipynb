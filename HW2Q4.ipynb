{
 "cells": [
  {
   "cell_type": "code",
   "execution_count": 1,
   "id": "a3f66a81-e062-4dcb-a620-b33b7aecaccb",
   "metadata": {},
   "outputs": [],
   "source": [
    "import numpy as np\n",
    "import sympy as sym\n",
    "import networkx as nx\n",
    "import matplotlib.pyplot as plt\n",
    "from dimod import BinaryQuadraticModel, ExactSolver"
   ]
  },
  {
   "cell_type": "code",
   "execution_count": 6,
   "id": "4ef6355a-a0e8-4acb-8c8d-935e732ffcb0",
   "metadata": {},
   "outputs": [],
   "source": [
    "dim = 5\n",
    "edges = np.array([[0, 1, 1, 0, 1], [0, 0, 1, 1, 1], [0, 0, 0, 1, 0], [0, 0, 0, 0, 1], [0, 0 ,0, 0, 0]])\n",
    "w = np.array([[0, 7, 1, 0, 6], [0, 0, 1, 8, 2], [0, 0, 0, 7, 0], [0, 0, 0, 0, 3], [0, 0, 0, 0, 0]])\n"
   ]
  },
  {
   "cell_type": "code",
   "execution_count": 11,
   "id": "fbf0f282-535c-48df-bc54-26875bc04e82",
   "metadata": {},
   "outputs": [],
   "source": [
    "x = np.zeros((dim, dim), dtype=object)\n",
    "for i in range(dim):\n",
    "    for j in range (dim):\n",
    "        x[i][j] = sym.Symbol(f\"x_{i}_{j}\", bool=True)"
   ]
  },
  {
   "cell_type": "code",
   "execution_count": 12,
   "id": "5ac26edf-30cb-4bbc-9c32-ee92bba3fe89",
   "metadata": {},
   "outputs": [],
   "source": [
    "f_1_1 = 0\n",
    "f_1 = 0\n",
    "for v in range (dim):\n",
    "    f_1_1 = np.sum(x[v][:])\n",
    "    f_1 += sym.expand((1-f_1_1)**2)\n",
    "    f_1_1 = 0"
   ]
  },
  {
   "cell_type": "code",
   "execution_count": 13,
   "id": "2c288995-4be7-4ee9-b0b7-abf090efa95d",
   "metadata": {},
   "outputs": [],
   "source": [
    "f_2_1 = 0\n",
    "f_2 = 0\n",
    "for j in range (dim):\n",
    "    f_2_1 = np.sum(x[:][j])\n",
    "    f_2 += sym.expand((1-f_2_1)**2)"
   ]
  },
  {
   "cell_type": "code",
   "execution_count": 14,
   "id": "c156b3a5-8c04-4291-be28-e82aea176da7",
   "metadata": {},
   "outputs": [],
   "source": [
    "f_3 = 0\n",
    "for u in range (dim):\n",
    "    for v in range (u+1, dim):\n",
    "        for j in range (dim-1):\n",
    "            f_3 += (1-edges[u][v])*x[u][j]*x[v][j+1]\n",
    "            "
   ]
  },
  {
   "cell_type": "code",
   "execution_count": 15,
   "id": "77f52a6b-5708-4db4-b614-2a2b339cbdad",
   "metadata": {},
   "outputs": [],
   "source": [
    "f_4_1 = 0\n",
    "f_4 = 0\n",
    "for u in range (dim):\n",
    "    for v in range (u+1, dim):\n",
    "        for j in range (dim-1):\n",
    "            f_4_1 += x[u][j]*x[v][j+1]\n",
    "        f_4 = w[u][v]*edges[u][v]*f_4_1\n",
    "        f_4_1 = 0"
   ]
  },
  {
   "cell_type": "code",
   "execution_count": 16,
   "id": "e04c65b0-2274-45f9-9610-b61831eb58eb",
   "metadata": {},
   "outputs": [],
   "source": [
    "A=1\n",
    "B=1\n",
    "f_t = A*f_1 + A*f_2 + A*f_3 + B*f_4"
   ]
  },
  {
   "cell_type": "code",
   "execution_count": 17,
   "id": "dca4c35c-7c88-4a23-acb2-10bef37339a9",
   "metadata": {},
   "outputs": [
    {
     "data": {
      "text/latex": [
       "$\\displaystyle 2 x_{0 0}^{2} + 4 x_{0 0} x_{0 1} + 4 x_{0 0} x_{0 2} + 4 x_{0 0} x_{0 3} + 4 x_{0 0} x_{0 4} - 4 x_{0 0} + 2 x_{0 1}^{2} + 4 x_{0 1} x_{0 2} + 4 x_{0 1} x_{0 3} + 4 x_{0 1} x_{0 4} - 4 x_{0 1} + 2 x_{0 2}^{2} + 4 x_{0 2} x_{0 3} + 4 x_{0 2} x_{0 4} - 4 x_{0 2} + 2 x_{0 3}^{2} + 4 x_{0 3} x_{0 4} - 4 x_{0 3} + 2 x_{0 4}^{2} - 4 x_{0 4} + 2 x_{1 0}^{2} + 4 x_{1 0} x_{1 1} + 4 x_{1 0} x_{1 2} + 4 x_{1 0} x_{1 3} + 4 x_{1 0} x_{1 4} - 4 x_{1 0} + 2 x_{1 1}^{2} + 4 x_{1 1} x_{1 2} + 4 x_{1 1} x_{1 3} + 4 x_{1 1} x_{1 4} - 4 x_{1 1} + 2 x_{1 2}^{2} + 4 x_{1 2} x_{1 3} + 4 x_{1 2} x_{1 4} - 4 x_{1 2} + 2 x_{1 3}^{2} + 4 x_{1 3} x_{1 4} - 4 x_{1 3} + 2 x_{1 4}^{2} - 4 x_{1 4} + 2 x_{2 0}^{2} + 4 x_{2 0} x_{2 1} + 4 x_{2 0} x_{2 2} + 4 x_{2 0} x_{2 3} + 4 x_{2 0} x_{2 4} - 4 x_{2 0} + 2 x_{2 1}^{2} + 4 x_{2 1} x_{2 2} + 4 x_{2 1} x_{2 3} + 4 x_{2 1} x_{2 4} - 4 x_{2 1} + 2 x_{2 2}^{2} + 4 x_{2 2} x_{2 3} + 4 x_{2 2} x_{2 4} - 4 x_{2 2} + 2 x_{2 3}^{2} + 4 x_{2 3} x_{2 4} - 4 x_{2 3} + 2 x_{2 4}^{2} - 4 x_{2 4} + 2 x_{3 0}^{2} + 4 x_{3 0} x_{3 1} + 4 x_{3 0} x_{3 2} + 4 x_{3 0} x_{3 3} + 4 x_{3 0} x_{3 4} + 3 x_{3 0} x_{4 1} - 4 x_{3 0} + 2 x_{3 1}^{2} + 4 x_{3 1} x_{3 2} + 4 x_{3 1} x_{3 3} + 4 x_{3 1} x_{3 4} + 3 x_{3 1} x_{4 2} - 4 x_{3 1} + 2 x_{3 2}^{2} + 4 x_{3 2} x_{3 3} + 4 x_{3 2} x_{3 4} + 3 x_{3 2} x_{4 3} - 4 x_{3 2} + 2 x_{3 3}^{2} + 4 x_{3 3} x_{3 4} + 4 x_{3 3} x_{4 4} - 4 x_{3 3} + 2 x_{3 4}^{2} - 4 x_{3 4} + 2 x_{4 0}^{2} + 4 x_{4 0} x_{4 1} + 4 x_{4 0} x_{4 2} + 4 x_{4 0} x_{4 3} + 4 x_{4 0} x_{4 4} - 4 x_{4 0} + 2 x_{4 1}^{2} + 4 x_{4 1} x_{4 2} + 4 x_{4 1} x_{4 3} + 4 x_{4 1} x_{4 4} - 4 x_{4 1} + 2 x_{4 2}^{2} + 4 x_{4 2} x_{4 3} + 4 x_{4 2} x_{4 4} - 4 x_{4 2} + 2 x_{4 3}^{2} + 4 x_{4 3} x_{4 4} - 4 x_{4 3} + 2 x_{4 4}^{2} - 4 x_{4 4} + 10$"
      ],
      "text/plain": [
       "2*x_0_0**2 + 4*x_0_0*x_0_1 + 4*x_0_0*x_0_2 + 4*x_0_0*x_0_3 + 4*x_0_0*x_0_4 - 4*x_0_0 + 2*x_0_1**2 + 4*x_0_1*x_0_2 + 4*x_0_1*x_0_3 + 4*x_0_1*x_0_4 - 4*x_0_1 + 2*x_0_2**2 + 4*x_0_2*x_0_3 + 4*x_0_2*x_0_4 - 4*x_0_2 + 2*x_0_3**2 + 4*x_0_3*x_0_4 - 4*x_0_3 + 2*x_0_4**2 - 4*x_0_4 + 2*x_1_0**2 + 4*x_1_0*x_1_1 + 4*x_1_0*x_1_2 + 4*x_1_0*x_1_3 + 4*x_1_0*x_1_4 - 4*x_1_0 + 2*x_1_1**2 + 4*x_1_1*x_1_2 + 4*x_1_1*x_1_3 + 4*x_1_1*x_1_4 - 4*x_1_1 + 2*x_1_2**2 + 4*x_1_2*x_1_3 + 4*x_1_2*x_1_4 - 4*x_1_2 + 2*x_1_3**2 + 4*x_1_3*x_1_4 - 4*x_1_3 + 2*x_1_4**2 - 4*x_1_4 + 2*x_2_0**2 + 4*x_2_0*x_2_1 + 4*x_2_0*x_2_2 + 4*x_2_0*x_2_3 + 4*x_2_0*x_2_4 - 4*x_2_0 + 2*x_2_1**2 + 4*x_2_1*x_2_2 + 4*x_2_1*x_2_3 + 4*x_2_1*x_2_4 - 4*x_2_1 + 2*x_2_2**2 + 4*x_2_2*x_2_3 + 4*x_2_2*x_2_4 - 4*x_2_2 + 2*x_2_3**2 + 4*x_2_3*x_2_4 - 4*x_2_3 + 2*x_2_4**2 - 4*x_2_4 + 2*x_3_0**2 + 4*x_3_0*x_3_1 + 4*x_3_0*x_3_2 + 4*x_3_0*x_3_3 + 4*x_3_0*x_3_4 + 3*x_3_0*x_4_1 - 4*x_3_0 + 2*x_3_1**2 + 4*x_3_1*x_3_2 + 4*x_3_1*x_3_3 + 4*x_3_1*x_3_4 + 3*x_3_1*x_4_2 - 4*x_3_1 + 2*x_3_2**2 + 4*x_3_2*x_3_3 + 4*x_3_2*x_3_4 + 3*x_3_2*x_4_3 - 4*x_3_2 + 2*x_3_3**2 + 4*x_3_3*x_3_4 + 4*x_3_3*x_4_4 - 4*x_3_3 + 2*x_3_4**2 - 4*x_3_4 + 2*x_4_0**2 + 4*x_4_0*x_4_1 + 4*x_4_0*x_4_2 + 4*x_4_0*x_4_3 + 4*x_4_0*x_4_4 - 4*x_4_0 + 2*x_4_1**2 + 4*x_4_1*x_4_2 + 4*x_4_1*x_4_3 + 4*x_4_1*x_4_4 - 4*x_4_1 + 2*x_4_2**2 + 4*x_4_2*x_4_3 + 4*x_4_2*x_4_4 - 4*x_4_2 + 2*x_4_3**2 + 4*x_4_3*x_4_4 - 4*x_4_3 + 2*x_4_4**2 - 4*x_4_4 + 10"
      ]
     },
     "execution_count": 17,
     "metadata": {},
     "output_type": "execute_result"
    }
   ],
   "source": [
    "f_t"
   ]
  },
  {
   "cell_type": "code",
   "execution_count": 18,
   "id": "c4e31943-83a2-4e39-8ac3-7751ddbf0bc5",
   "metadata": {},
   "outputs": [],
   "source": [
    "Q = np.zeros((dim, dim), dtype=float)\n",
    "for i in range (dim):\n",
    "    for j in range(i, dim):\n",
    "        Q[i][j] = float(f_t.coeff(x[i][j]*x[i][j]))"
   ]
  },
  {
   "cell_type": "code",
   "execution_count": 19,
   "id": "aaeab7ed-3a93-4ac8-a551-0b0d92371bc3",
   "metadata": {},
   "outputs": [],
   "source": [
    "bqm       = BinaryQuadraticModel.from_qubo(Q)\n",
    "sampler   = ExactSolver()\n",
    "sampleset = sampler.sample(bqm)\n",
    "result    = sampleset.first"
   ]
  },
  {
   "cell_type": "code",
   "execution_count": null,
   "id": "5a547894-ff17-46a8-b73b-61e0d2fe9215",
   "metadata": {},
   "outputs": [],
   "source": []
  }
 ],
 "metadata": {
  "kernelspec": {
   "display_name": "Python 3 (ipykernel)",
   "language": "python",
   "name": "python3"
  },
  "language_info": {
   "codemirror_mode": {
    "name": "ipython",
    "version": 3
   },
   "file_extension": ".py",
   "mimetype": "text/x-python",
   "name": "python",
   "nbconvert_exporter": "python",
   "pygments_lexer": "ipython3",
   "version": "3.12.3"
  }
 },
 "nbformat": 4,
 "nbformat_minor": 5
}
